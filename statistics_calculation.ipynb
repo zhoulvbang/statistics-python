{
  "nbformat": 4,
  "nbformat_minor": 0,
  "metadata": {
    "colab": {
      "provenance": [],
      "authorship_tag": "ABX9TyP17eQ53fxaf83ey6n3GgdZ",
      "include_colab_link": true
    },
    "kernelspec": {
      "name": "python3",
      "display_name": "Python 3"
    },
    "language_info": {
      "name": "python"
    }
  },
  "cells": [
    {
      "cell_type": "markdown",
      "metadata": {
        "id": "view-in-github",
        "colab_type": "text"
      },
      "source": [
        "<a href=\"https://colab.research.google.com/github/zhoulvbang/statistics-python/blob/main/statistics_calculation.ipynb\" target=\"_parent\"><img src=\"https://colab.research.google.com/assets/colab-badge.svg\" alt=\"Open In Colab\"/></a>"
      ]
    },
    {
      "cell_type": "markdown",
      "source": [
        "两独立样本t检验"
      ],
      "metadata": {
        "id": "EiZs9wtTIYeS"
      }
    },
    {
      "cell_type": "code",
      "execution_count": null,
      "metadata": {
        "colab": {
          "base_uri": "https://localhost:8080/"
        },
        "id": "q-cvMAspIXWU",
        "outputId": "1fa903e3-712b-471c-855c-68436e33a9b6"
      },
      "outputs": [
        {
          "output_type": "stream",
          "name": "stdout",
          "text": [
            "0.7402889826127211 22.82892275440112\n"
          ]
        }
      ],
      "source": [
        "import math\n",
        "\n",
        "# Given data\n",
        "mean_male = 134.5\n",
        "mean_female = 117.6\n",
        "std_male = 7.1\n",
        "std_female = 10.2\n",
        "n_male = 360\n",
        "n_female = 255\n",
        "\n",
        "# Calculate standard error (SE)\n",
        "SE = math.sqrt((std_male ** 2) / n_male + (std_female ** 2) / n_female)\n",
        "\n",
        "# Calculate t-value\n",
        "t_value = (mean_male - mean_female) / SE\n",
        "\n",
        "print(SE, t_value)"
      ]
    },
    {
      "cell_type": "markdown",
      "source": [
        "配对t检验"
      ],
      "metadata": {
        "id": "GMs0CxrsJ0QU"
      }
    },
    {
      "cell_type": "code",
      "source": [
        "import math\n",
        "\n",
        "# Given data\n",
        "mean_drug_A = 3.2\n",
        "mean_drug_B = 5\n",
        "std_drug_A = 1.932\n",
        "std_drug_B = 2.981\n",
        "n = 10\n",
        "\n",
        "# 计算合并方差\n",
        "Var = (((n-1)*std_drug_A**2)+((n-1)*std_drug_B**2))/(n+n-2)\n",
        "# Calculate standard error (SE)\n",
        "SE = math.sqrt(Var*(1/n+1/n))\n",
        "\n",
        "# Calculate t-value\n",
        "t_value = (mean_drug_A - mean_drug_B) / SE\n",
        "\n",
        "Var, SE, t_value"
      ],
      "metadata": {
        "colab": {
          "base_uri": "https://localhost:8080/"
        },
        "id": "OqmKU4-AJ4ah",
        "outputId": "0d8a122d-6553-4a21-87b4-6c1f90c0b7fa"
      },
      "execution_count": null,
      "outputs": [
        {
          "output_type": "execute_result",
          "data": {
            "text/plain": [
              "(6.309492499999999, 1.1233425568365154, -1.602360730522881)"
            ]
          },
          "metadata": {},
          "execution_count": 6
        }
      ]
    },
    {
      "cell_type": "markdown",
      "source": [
        "# 对数正态分布\n",
        "将钩端螺旋体病人的血清分别用标准株和水生株做凝溶试验，测得稀释倍数如下，问两组的平均效价有无差别？\n",
        "\n",
        "标准株（11人） 100 200 400 400 400 400 800 1600 1600 1600 3200\n",
        "\n",
        "水生株（9人） 100 100 100 200 200 200 200 400 400\n",
        "\n"
      ],
      "metadata": {
        "id": "J13prxcBVvdQ"
      }
    },
    {
      "cell_type": "code",
      "source": [
        "# -*- coding: UTF-8 -*-\n",
        "import numpy as np\n",
        "#import math\n",
        "\n",
        "# 自定义的打印函数，并在需要打印时使用这个函数\n",
        "def custom_print(value):\n",
        "    if isinstance(value, (int, float)):\n",
        "        print(f\"{value:.4f}\")\n",
        "    else:\n",
        "        print(value)  # 对于非数值类型，直接打印\n",
        "# 数据\n",
        "standard_strain = np.array([100, 200, 400, 400, 400, 400, 800, 1600, 1600, 1600, 3200])\n",
        "aquatic_strain = np.array([100, 100, 100, 200, 200, 200, 200, 400, 400])\n",
        "\n",
        "# 计算对数\n",
        "lg_standard = np.log10(standard_strain)\n",
        "lg_aquatic = np.log10(aquatic_strain)\n",
        "\n",
        "# 以10为底的log\n",
        "# 在math库中，函数的输入x只能为单独一个数\n",
        "# math.log10(standard_strain)\n",
        "#math.log10(aquatic_strain)\n",
        "\n",
        "# 计算均值和标准差\n",
        "mean_standard = np.mean(lg_standard)\n",
        "std_standard = np.std(lg_standard, ddof=1)\n",
        "\n",
        "mean_aquatic = np.mean(lg_aquatic)\n",
        "std_aquatic = np.std(lg_aquatic, ddof=1)\n",
        "\n",
        "# 样本容量\n",
        "n1 = len(standard_strain)\n",
        "n2 = len(aquatic_strain)\n",
        "\n",
        "# 两组方差齐性检验\n",
        "F = std_standard**2 / std_aquatic**2\n",
        "# 计算合并方差\n",
        "sp_squared = ((n1 - 1) * std_standard**2 + (n2 - 1) * std_aquatic**2) / (n1 + n2 - 2)\n",
        "\n",
        "# 计算 t 统计量\n",
        "t_statistic = (mean_standard - mean_aquatic) / np.sqrt(sp_squared * (1/n1 + 1/n2))\n",
        "\n",
        "# 输出结果\n",
        "np.set_printoptions(precision=4) #设置小数位置为3位\n",
        "print(\"标准株的对数均数:\", lg_standard)\n",
        "print(\"水生株的对数均数:\", lg_aquatic)\n",
        "print(\"标准株的对数均数均值:\", mean_standard, \"\\n水生株的对数均数均值:\", mean_aquatic)\n",
        "\n",
        "lg_standard, lg_aquatic, mean_standard, std_standard, mean_aquatic, std_aquatic, F,sp_squared, t_statistic\n",
        "#print( mean_standard, std_standard, mean_aquatic, std_aquatic, sp_squared, t_statistic)\n",
        "#print(\"标准株的对数均数:\"mean_standard, std_standard, mean_aquatic, std_aquatic, sp_squared, t_statistic)"
      ],
      "metadata": {
        "id": "4CQ6CYxaVzRL",
        "colab": {
          "base_uri": "https://localhost:8080/"
        },
        "outputId": "c0d3f4c5-95e4-4bbb-d965-e636fc771488"
      },
      "execution_count": null,
      "outputs": [
        {
          "output_type": "stream",
          "name": "stdout",
          "text": [
            "标准株的对数均数: [2.     2.301  2.6021 2.6021 2.6021 2.6021 2.9031 3.2041 3.2041 3.2041\n",
            " 3.5051]\n",
            "水生株的对数均数: [2.     2.     2.     2.301  2.301  2.301  2.301  2.6021 2.6021]\n",
            "标准株的对数均数均值: 2.7936245340232233 \n",
            "水生株的对数均数均值: 2.2675822183679832\n"
          ]
        },
        {
          "output_type": "execute_result",
          "data": {
            "text/plain": [
              "(array([2.    , 2.301 , 2.6021, 2.6021, 2.6021, 2.6021, 2.9031, 3.2041,\n",
              "        3.2041, 3.2041, 3.5051]),\n",
              " array([2.    , 2.    , 2.    , 2.301 , 2.301 , 2.301 , 2.301 , 2.6021,\n",
              "        2.6021]),\n",
              " 2.7936245340232233,\n",
              " 0.45200086942580525,\n",
              " 2.2675822183679832,\n",
              " 0.23532597264031938,\n",
              " 3.6892561983471066,\n",
              " 0.13811524260054098,\n",
              " 3.1492161869340016)"
            ]
          },
          "metadata": {},
          "execution_count": 21
        }
      ]
    }
  ]
}